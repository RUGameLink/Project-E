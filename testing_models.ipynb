{
  "nbformat": 4,
  "nbformat_minor": 0,
  "metadata": {
    "colab": {
      "provenance": []
    },
    "kernelspec": {
      "name": "python3",
      "display_name": "Python 3"
    },
    "language_info": {
      "name": "python"
    }
  },
  "cells": [
    {
      "cell_type": "code",
      "source": [
        "import chardet"
      ],
      "metadata": {
        "id": "sa5Q2ith6k8O"
      },
      "execution_count": 1,
      "outputs": []
    },
    {
      "cell_type": "code",
      "source": [
        "# Открываем файл в двоичном режиме и читаем данные\n",
        "with open('/content/data.csv', 'rb') as file:\n",
        "    raw_data = file.read()"
      ],
      "metadata": {
        "id": "rTwN4mW-6maV"
      },
      "execution_count": 2,
      "outputs": []
    },
    {
      "cell_type": "code",
      "source": [
        "# Используем chardet для определения кодировки\n",
        "result = chardet.detect(raw_data)"
      ],
      "metadata": {
        "id": "FfCQ_h0u6nuN"
      },
      "execution_count": 3,
      "outputs": []
    },
    {
      "cell_type": "code",
      "source": [
        "# Получаем название кодировки\n",
        "encoding_file = result['encoding']"
      ],
      "metadata": {
        "id": "kXq_2vFt6o3_"
      },
      "execution_count": 4,
      "outputs": []
    },
    {
      "cell_type": "code",
      "source": [
        "print(f\"Кодировка файла: {encoding_file}\")"
      ],
      "metadata": {
        "colab": {
          "base_uri": "https://localhost:8080/"
        },
        "id": "jd2Bs_zQ6qCN",
        "outputId": "d53ca6f7-5e39-455c-872b-cb98c3f9c5be"
      },
      "execution_count": 5,
      "outputs": [
        {
          "output_type": "stream",
          "name": "stdout",
          "text": [
            "Кодировка файла: ISO-8859-1\n"
          ]
        }
      ]
    },
    {
      "cell_type": "markdown",
      "source": [
        "#Загружаем библиотеки"
      ],
      "metadata": {
        "id": "otWKuaou1POq"
      }
    },
    {
      "cell_type": "code",
      "execution_count": 42,
      "metadata": {
        "id": "P_4ztfUH1KD7"
      },
      "outputs": [],
      "source": [
        "from keras.models import load_model\n",
        "from sklearn.metrics import mean_squared_error, mean_absolute_error, r2_score\n",
        "from sklearn.model_selection import train_test_split\n",
        "from sklearn.preprocessing import MinMaxScaler\n",
        "import matplotlib.pyplot as plt\n",
        "import numpy as np\n",
        "import pandas as pd\n",
        "import pickle\n",
        "import plotly.graph_objects as go"
      ]
    },
    {
      "cell_type": "markdown",
      "source": [
        "#Готовим данные"
      ],
      "metadata": {
        "id": "T2e6z_2P1TGQ"
      }
    },
    {
      "cell_type": "code",
      "source": [
        "# Загрузка данных\n",
        "data = pd.read_csv('/content/data.csv', encoding=encoding_file, delimiter=';')"
      ],
      "metadata": {
        "id": "uaP-Zknu1V-S"
      },
      "execution_count": 7,
      "outputs": []
    },
    {
      "cell_type": "code",
      "source": [
        "# Проверка на наличие пустых значений\n",
        "print(data.isnull().sum())"
      ],
      "metadata": {
        "colab": {
          "base_uri": "https://localhost:8080/"
        },
        "id": "ywdGJ_UJ1iyX",
        "outputId": "6b4b5836-3fce-4488-e495-cd268daea306"
      },
      "execution_count": 8,
      "outputs": [
        {
          "output_type": "stream",
          "name": "stdout",
          "text": [
            "Datetime             0\n",
            "Radon (Bq.m3)        9\n",
            "Temperature (¡C)    55\n",
            "Pressure (mBar)      0\n",
            "dtype: int64\n"
          ]
        }
      ]
    },
    {
      "cell_type": "code",
      "source": [
        "# Получение информации о DataFrame\n",
        "data.info()"
      ],
      "metadata": {
        "colab": {
          "base_uri": "https://localhost:8080/"
        },
        "id": "O21k-7Af1lyV",
        "outputId": "64705651-612d-4a18-b32d-8390ee9aba81"
      },
      "execution_count": 9,
      "outputs": [
        {
          "output_type": "stream",
          "name": "stdout",
          "text": [
            "<class 'pandas.core.frame.DataFrame'>\n",
            "RangeIndex: 8762 entries, 0 to 8761\n",
            "Data columns (total 4 columns):\n",
            " #   Column            Non-Null Count  Dtype  \n",
            "---  ------            --------------  -----  \n",
            " 0   Datetime          8762 non-null   object \n",
            " 1   Radon (Bq.m3)     8753 non-null   float64\n",
            " 2   Temperature (¡C)  8707 non-null   object \n",
            " 3   Pressure (mBar)   8762 non-null   object \n",
            "dtypes: float64(1), object(3)\n",
            "memory usage: 273.9+ KB\n"
          ]
        }
      ]
    },
    {
      "cell_type": "code",
      "source": [
        "data['Temperature (¡C)'] = data['Temperature (¡C)'].str.replace(',', '.').astype(float)"
      ],
      "metadata": {
        "id": "kR8_BORn1ncu"
      },
      "execution_count": 10,
      "outputs": []
    },
    {
      "cell_type": "code",
      "source": [
        "data['Pressure (mBar)'] = data['Pressure (mBar)'].str.replace(',', '.').astype(float)"
      ],
      "metadata": {
        "id": "SyNhg9Gq1o7H"
      },
      "execution_count": 11,
      "outputs": []
    },
    {
      "cell_type": "code",
      "source": [
        "# Замена пустых значений средними по каждому столбцу\n",
        "for column in data.columns:\n",
        "    # Проверяем, содержит ли столбец числовые данные\n",
        "    if pd.api.types.is_numeric_dtype(data[column]):\n",
        "        # Заменяем пустые значения средними, только если столбец числовой\n",
        "        data[column].fillna(data[column].mean(), inplace=True)\n",
        "    else:\n",
        "        # Если столбец не числовой, можно заменить пустые значения другим способом\n",
        "        # Например, можно использовать наиболее часто встречающееся значение:\n",
        "        # data[column].fillna(data[column].mode()[0], inplace=True)\n",
        "        pass  # или пропустить столбец"
      ],
      "metadata": {
        "id": "AcOoA_tu1p_F"
      },
      "execution_count": 12,
      "outputs": []
    },
    {
      "cell_type": "code",
      "source": [
        "# Проверка на наличие пустых значений\n",
        "print(data.isnull().sum())"
      ],
      "metadata": {
        "colab": {
          "base_uri": "https://localhost:8080/"
        },
        "id": "fKmLfSc21rb9",
        "outputId": "e3773f57-4d91-42fa-ffdc-b76bd23c6f23"
      },
      "execution_count": 13,
      "outputs": [
        {
          "output_type": "stream",
          "name": "stdout",
          "text": [
            "Datetime            0\n",
            "Radon (Bq.m3)       0\n",
            "Temperature (¡C)    0\n",
            "Pressure (mBar)     0\n",
            "dtype: int64\n"
          ]
        }
      ]
    },
    {
      "cell_type": "code",
      "source": [
        "data.columns"
      ],
      "metadata": {
        "colab": {
          "base_uri": "https://localhost:8080/"
        },
        "id": "VmdRZc-H1swt",
        "outputId": "73c10447-9672-4a05-9196-4f0726cddf88"
      },
      "execution_count": 14,
      "outputs": [
        {
          "output_type": "execute_result",
          "data": {
            "text/plain": [
              "Index(['Datetime', 'Radon (Bq.m3)', 'Temperature (¡C)', 'Pressure (mBar)'], dtype='object')"
            ]
          },
          "metadata": {},
          "execution_count": 14
        }
      ]
    },
    {
      "cell_type": "code",
      "source": [
        "data.head()"
      ],
      "metadata": {
        "colab": {
          "base_uri": "https://localhost:8080/",
          "height": 206
        },
        "id": "wFxroJdK1uR2",
        "outputId": "21933548-679a-472b-87c9-5145659d138e"
      },
      "execution_count": 15,
      "outputs": [
        {
          "output_type": "execute_result",
          "data": {
            "text/plain": [
              "           Datetime  Radon (Bq.m3)  Temperature (¡C)  Pressure (mBar)\n",
              "0  04.05.2020 17:00        22204.0          2.027428       981.284980\n",
              "1  04.05.2020 18:00        25594.0          0.615326       980.457186\n",
              "2  04.05.2020 19:00        22204.0          0.113435       980.125557\n",
              "3  04.05.2020 20:00        23617.0         -0.093737       980.157554\n",
              "4  04.05.2020 21:00        21357.0         -0.191938       980.463049"
            ],
            "text/html": [
              "\n",
              "  <div id=\"df-926269e2-60d3-44d5-bae4-0d491d6cca40\" class=\"colab-df-container\">\n",
              "    <div>\n",
              "<style scoped>\n",
              "    .dataframe tbody tr th:only-of-type {\n",
              "        vertical-align: middle;\n",
              "    }\n",
              "\n",
              "    .dataframe tbody tr th {\n",
              "        vertical-align: top;\n",
              "    }\n",
              "\n",
              "    .dataframe thead th {\n",
              "        text-align: right;\n",
              "    }\n",
              "</style>\n",
              "<table border=\"1\" class=\"dataframe\">\n",
              "  <thead>\n",
              "    <tr style=\"text-align: right;\">\n",
              "      <th></th>\n",
              "      <th>Datetime</th>\n",
              "      <th>Radon (Bq.m3)</th>\n",
              "      <th>Temperature (¡C)</th>\n",
              "      <th>Pressure (mBar)</th>\n",
              "    </tr>\n",
              "  </thead>\n",
              "  <tbody>\n",
              "    <tr>\n",
              "      <th>0</th>\n",
              "      <td>04.05.2020 17:00</td>\n",
              "      <td>22204.0</td>\n",
              "      <td>2.027428</td>\n",
              "      <td>981.284980</td>\n",
              "    </tr>\n",
              "    <tr>\n",
              "      <th>1</th>\n",
              "      <td>04.05.2020 18:00</td>\n",
              "      <td>25594.0</td>\n",
              "      <td>0.615326</td>\n",
              "      <td>980.457186</td>\n",
              "    </tr>\n",
              "    <tr>\n",
              "      <th>2</th>\n",
              "      <td>04.05.2020 19:00</td>\n",
              "      <td>22204.0</td>\n",
              "      <td>0.113435</td>\n",
              "      <td>980.125557</td>\n",
              "    </tr>\n",
              "    <tr>\n",
              "      <th>3</th>\n",
              "      <td>04.05.2020 20:00</td>\n",
              "      <td>23617.0</td>\n",
              "      <td>-0.093737</td>\n",
              "      <td>980.157554</td>\n",
              "    </tr>\n",
              "    <tr>\n",
              "      <th>4</th>\n",
              "      <td>04.05.2020 21:00</td>\n",
              "      <td>21357.0</td>\n",
              "      <td>-0.191938</td>\n",
              "      <td>980.463049</td>\n",
              "    </tr>\n",
              "  </tbody>\n",
              "</table>\n",
              "</div>\n",
              "    <div class=\"colab-df-buttons\">\n",
              "\n",
              "  <div class=\"colab-df-container\">\n",
              "    <button class=\"colab-df-convert\" onclick=\"convertToInteractive('df-926269e2-60d3-44d5-bae4-0d491d6cca40')\"\n",
              "            title=\"Convert this dataframe to an interactive table.\"\n",
              "            style=\"display:none;\">\n",
              "\n",
              "  <svg xmlns=\"http://www.w3.org/2000/svg\" height=\"24px\" viewBox=\"0 -960 960 960\">\n",
              "    <path d=\"M120-120v-720h720v720H120Zm60-500h600v-160H180v160Zm220 220h160v-160H400v160Zm0 220h160v-160H400v160ZM180-400h160v-160H180v160Zm440 0h160v-160H620v160ZM180-180h160v-160H180v160Zm440 0h160v-160H620v160Z\"/>\n",
              "  </svg>\n",
              "    </button>\n",
              "\n",
              "  <style>\n",
              "    .colab-df-container {\n",
              "      display:flex;\n",
              "      gap: 12px;\n",
              "    }\n",
              "\n",
              "    .colab-df-convert {\n",
              "      background-color: #E8F0FE;\n",
              "      border: none;\n",
              "      border-radius: 50%;\n",
              "      cursor: pointer;\n",
              "      display: none;\n",
              "      fill: #1967D2;\n",
              "      height: 32px;\n",
              "      padding: 0 0 0 0;\n",
              "      width: 32px;\n",
              "    }\n",
              "\n",
              "    .colab-df-convert:hover {\n",
              "      background-color: #E2EBFA;\n",
              "      box-shadow: 0px 1px 2px rgba(60, 64, 67, 0.3), 0px 1px 3px 1px rgba(60, 64, 67, 0.15);\n",
              "      fill: #174EA6;\n",
              "    }\n",
              "\n",
              "    .colab-df-buttons div {\n",
              "      margin-bottom: 4px;\n",
              "    }\n",
              "\n",
              "    [theme=dark] .colab-df-convert {\n",
              "      background-color: #3B4455;\n",
              "      fill: #D2E3FC;\n",
              "    }\n",
              "\n",
              "    [theme=dark] .colab-df-convert:hover {\n",
              "      background-color: #434B5C;\n",
              "      box-shadow: 0px 1px 3px 1px rgba(0, 0, 0, 0.15);\n",
              "      filter: drop-shadow(0px 1px 2px rgba(0, 0, 0, 0.3));\n",
              "      fill: #FFFFFF;\n",
              "    }\n",
              "  </style>\n",
              "\n",
              "    <script>\n",
              "      const buttonEl =\n",
              "        document.querySelector('#df-926269e2-60d3-44d5-bae4-0d491d6cca40 button.colab-df-convert');\n",
              "      buttonEl.style.display =\n",
              "        google.colab.kernel.accessAllowed ? 'block' : 'none';\n",
              "\n",
              "      async function convertToInteractive(key) {\n",
              "        const element = document.querySelector('#df-926269e2-60d3-44d5-bae4-0d491d6cca40');\n",
              "        const dataTable =\n",
              "          await google.colab.kernel.invokeFunction('convertToInteractive',\n",
              "                                                    [key], {});\n",
              "        if (!dataTable) return;\n",
              "\n",
              "        const docLinkHtml = 'Like what you see? Visit the ' +\n",
              "          '<a target=\"_blank\" href=https://colab.research.google.com/notebooks/data_table.ipynb>data table notebook</a>'\n",
              "          + ' to learn more about interactive tables.';\n",
              "        element.innerHTML = '';\n",
              "        dataTable['output_type'] = 'display_data';\n",
              "        await google.colab.output.renderOutput(dataTable, element);\n",
              "        const docLink = document.createElement('div');\n",
              "        docLink.innerHTML = docLinkHtml;\n",
              "        element.appendChild(docLink);\n",
              "      }\n",
              "    </script>\n",
              "  </div>\n",
              "\n",
              "\n",
              "<div id=\"df-d3ed1e53-1530-42b0-b674-7c8040e3d771\">\n",
              "  <button class=\"colab-df-quickchart\" onclick=\"quickchart('df-d3ed1e53-1530-42b0-b674-7c8040e3d771')\"\n",
              "            title=\"Suggest charts\"\n",
              "            style=\"display:none;\">\n",
              "\n",
              "<svg xmlns=\"http://www.w3.org/2000/svg\" height=\"24px\"viewBox=\"0 0 24 24\"\n",
              "     width=\"24px\">\n",
              "    <g>\n",
              "        <path d=\"M19 3H5c-1.1 0-2 .9-2 2v14c0 1.1.9 2 2 2h14c1.1 0 2-.9 2-2V5c0-1.1-.9-2-2-2zM9 17H7v-7h2v7zm4 0h-2V7h2v10zm4 0h-2v-4h2v4z\"/>\n",
              "    </g>\n",
              "</svg>\n",
              "  </button>\n",
              "\n",
              "<style>\n",
              "  .colab-df-quickchart {\n",
              "      --bg-color: #E8F0FE;\n",
              "      --fill-color: #1967D2;\n",
              "      --hover-bg-color: #E2EBFA;\n",
              "      --hover-fill-color: #174EA6;\n",
              "      --disabled-fill-color: #AAA;\n",
              "      --disabled-bg-color: #DDD;\n",
              "  }\n",
              "\n",
              "  [theme=dark] .colab-df-quickchart {\n",
              "      --bg-color: #3B4455;\n",
              "      --fill-color: #D2E3FC;\n",
              "      --hover-bg-color: #434B5C;\n",
              "      --hover-fill-color: #FFFFFF;\n",
              "      --disabled-bg-color: #3B4455;\n",
              "      --disabled-fill-color: #666;\n",
              "  }\n",
              "\n",
              "  .colab-df-quickchart {\n",
              "    background-color: var(--bg-color);\n",
              "    border: none;\n",
              "    border-radius: 50%;\n",
              "    cursor: pointer;\n",
              "    display: none;\n",
              "    fill: var(--fill-color);\n",
              "    height: 32px;\n",
              "    padding: 0;\n",
              "    width: 32px;\n",
              "  }\n",
              "\n",
              "  .colab-df-quickchart:hover {\n",
              "    background-color: var(--hover-bg-color);\n",
              "    box-shadow: 0 1px 2px rgba(60, 64, 67, 0.3), 0 1px 3px 1px rgba(60, 64, 67, 0.15);\n",
              "    fill: var(--button-hover-fill-color);\n",
              "  }\n",
              "\n",
              "  .colab-df-quickchart-complete:disabled,\n",
              "  .colab-df-quickchart-complete:disabled:hover {\n",
              "    background-color: var(--disabled-bg-color);\n",
              "    fill: var(--disabled-fill-color);\n",
              "    box-shadow: none;\n",
              "  }\n",
              "\n",
              "  .colab-df-spinner {\n",
              "    border: 2px solid var(--fill-color);\n",
              "    border-color: transparent;\n",
              "    border-bottom-color: var(--fill-color);\n",
              "    animation:\n",
              "      spin 1s steps(1) infinite;\n",
              "  }\n",
              "\n",
              "  @keyframes spin {\n",
              "    0% {\n",
              "      border-color: transparent;\n",
              "      border-bottom-color: var(--fill-color);\n",
              "      border-left-color: var(--fill-color);\n",
              "    }\n",
              "    20% {\n",
              "      border-color: transparent;\n",
              "      border-left-color: var(--fill-color);\n",
              "      border-top-color: var(--fill-color);\n",
              "    }\n",
              "    30% {\n",
              "      border-color: transparent;\n",
              "      border-left-color: var(--fill-color);\n",
              "      border-top-color: var(--fill-color);\n",
              "      border-right-color: var(--fill-color);\n",
              "    }\n",
              "    40% {\n",
              "      border-color: transparent;\n",
              "      border-right-color: var(--fill-color);\n",
              "      border-top-color: var(--fill-color);\n",
              "    }\n",
              "    60% {\n",
              "      border-color: transparent;\n",
              "      border-right-color: var(--fill-color);\n",
              "    }\n",
              "    80% {\n",
              "      border-color: transparent;\n",
              "      border-right-color: var(--fill-color);\n",
              "      border-bottom-color: var(--fill-color);\n",
              "    }\n",
              "    90% {\n",
              "      border-color: transparent;\n",
              "      border-bottom-color: var(--fill-color);\n",
              "    }\n",
              "  }\n",
              "</style>\n",
              "\n",
              "  <script>\n",
              "    async function quickchart(key) {\n",
              "      const quickchartButtonEl =\n",
              "        document.querySelector('#' + key + ' button');\n",
              "      quickchartButtonEl.disabled = true;  // To prevent multiple clicks.\n",
              "      quickchartButtonEl.classList.add('colab-df-spinner');\n",
              "      try {\n",
              "        const charts = await google.colab.kernel.invokeFunction(\n",
              "            'suggestCharts', [key], {});\n",
              "      } catch (error) {\n",
              "        console.error('Error during call to suggestCharts:', error);\n",
              "      }\n",
              "      quickchartButtonEl.classList.remove('colab-df-spinner');\n",
              "      quickchartButtonEl.classList.add('colab-df-quickchart-complete');\n",
              "    }\n",
              "    (() => {\n",
              "      let quickchartButtonEl =\n",
              "        document.querySelector('#df-d3ed1e53-1530-42b0-b674-7c8040e3d771 button');\n",
              "      quickchartButtonEl.style.display =\n",
              "        google.colab.kernel.accessAllowed ? 'block' : 'none';\n",
              "    })();\n",
              "  </script>\n",
              "</div>\n",
              "\n",
              "    </div>\n",
              "  </div>\n"
            ],
            "application/vnd.google.colaboratory.intrinsic+json": {
              "type": "dataframe",
              "variable_name": "data",
              "summary": "{\n  \"name\": \"data\",\n  \"rows\": 8762,\n  \"fields\": [\n    {\n      \"column\": \"Datetime\",\n      \"properties\": {\n        \"dtype\": \"string\",\n        \"num_unique_values\": 8762,\n        \"samples\": [\n          \"24.06.2020 19:00\",\n          \"07.04.2021 14:00\",\n          \"08.07.2020 16:00\"\n        ],\n        \"semantic_type\": \"\",\n        \"description\": \"\"\n      }\n    },\n    {\n      \"column\": \"Radon (Bq.m3)\",\n      \"properties\": {\n        \"dtype\": \"number\",\n        \"std\": 8623.103186950295,\n        \"min\": 508.0,\n        \"max\": 38533.0,\n        \"num_unique_values\": 647,\n        \"samples\": [\n          34634.0,\n          18362.0,\n          23165.0\n        ],\n        \"semantic_type\": \"\",\n        \"description\": \"\"\n      }\n    },\n    {\n      \"column\": \"Temperature (\\u00a1C)\",\n      \"properties\": {\n        \"dtype\": \"number\",\n        \"std\": 3.238558830408112,\n        \"min\": -1.354161481,\n        \"max\": 8.338096977,\n        \"num_unique_values\": 6118,\n        \"samples\": [\n          -0.41274074,\n          0.468011407,\n          0.198239202\n        ],\n        \"semantic_type\": \"\",\n        \"description\": \"\"\n      }\n    },\n    {\n      \"column\": \"Pressure (mBar)\",\n      \"properties\": {\n        \"dtype\": \"number\",\n        \"std\": 8.782671616651278,\n        \"min\": 958.7820999,\n        \"max\": 1016.420816,\n        \"num_unique_values\": 8710,\n        \"samples\": [\n          976.7925938,\n          983.3373989,\n          994.9021956\n        ],\n        \"semantic_type\": \"\",\n        \"description\": \"\"\n      }\n    }\n  ]\n}"
            }
          },
          "metadata": {},
          "execution_count": 15
        }
      ]
    },
    {
      "cell_type": "code",
      "source": [
        "# Преобразование столбца с датой и временем в формат datetime\n",
        "data['Datetime'] = pd.to_datetime(data['Datetime'], format='%d.%m.%Y %H:%M')"
      ],
      "metadata": {
        "id": "a8Zxi-IA1vf5"
      },
      "execution_count": 16,
      "outputs": []
    },
    {
      "cell_type": "code",
      "source": [
        "# Установка столбца с датой и временем в качестве индекса\n",
        "data.set_index('Datetime', inplace=True)\n"
      ],
      "metadata": {
        "id": "qjy_aQ_N1w6O"
      },
      "execution_count": 17,
      "outputs": []
    },
    {
      "cell_type": "code",
      "source": [
        "# Разделение данных на наборы\n",
        "train_data, test_data = train_test_split(data, test_size=0.1, random_state=42)\n",
        "train_data, val_data = train_test_split(train_data, test_size=0.15, random_state=42)"
      ],
      "metadata": {
        "id": "o1nXffIF1yNm"
      },
      "execution_count": 18,
      "outputs": []
    },
    {
      "cell_type": "code",
      "source": [
        "# Нормализация данных\n",
        "scaler = MinMaxScaler(feature_range=(0, 1))\n",
        "scaler.fit(train_data)\n",
        "train_scaled = scaler.fit_transform(train_data)\n",
        "val_scaled = scaler.transform(val_data)\n",
        "test_scaled = scaler.transform(test_data)"
      ],
      "metadata": {
        "id": "XRsQTeby10hx"
      },
      "execution_count": 19,
      "outputs": []
    },
    {
      "cell_type": "code",
      "source": [
        "# Создание датасета для обучения RNN\n",
        "def create_dataset(dataset, time_step=1):\n",
        "    dataX, dataY = [], []\n",
        "    for i in range(len(dataset) - time_step - 1):\n",
        "        a = dataset[i:(i + time_step), :]\n",
        "        dataX.append(a)\n",
        "        dataY.append(dataset[i + time_step, 0]) # Предсказываем только уровень радона\n",
        "    return np.array(dataX), np.array(dataY)"
      ],
      "metadata": {
        "id": "5Eo7TBJd13ra"
      },
      "execution_count": 20,
      "outputs": []
    },
    {
      "cell_type": "code",
      "source": [
        "time_step = 5\n",
        "X_train, y_train = create_dataset(train_scaled, time_step)"
      ],
      "metadata": {
        "id": "vauRh4Px14-1"
      },
      "execution_count": 21,
      "outputs": []
    },
    {
      "cell_type": "code",
      "source": [
        "time_step = 5\n",
        "X_val, y_val = create_dataset(val_scaled, time_step)"
      ],
      "metadata": {
        "id": "TdmdLjhU16V1"
      },
      "execution_count": 22,
      "outputs": []
    },
    {
      "cell_type": "code",
      "source": [
        "time_step = 5\n",
        "X_test, y_test = create_dataset(test_scaled, time_step)"
      ],
      "metadata": {
        "id": "vMGdRHMP17m4"
      },
      "execution_count": 23,
      "outputs": []
    },
    {
      "cell_type": "code",
      "source": [
        "# Изменение формы входных данных для модели RNN\n",
        "X_train = X_train.reshape(X_train.shape[0], X_train.shape[1], data.shape[1])\n"
      ],
      "metadata": {
        "id": "bBA3V23r1844"
      },
      "execution_count": 24,
      "outputs": []
    },
    {
      "cell_type": "code",
      "source": [
        "# Изменение формы входных данных для модели RNN\n",
        "X_val = X_val.reshape(X_val.shape[0], X_val.shape[1], data.shape[1])"
      ],
      "metadata": {
        "id": "_vt5AC661-Du"
      },
      "execution_count": 25,
      "outputs": []
    },
    {
      "cell_type": "code",
      "source": [
        "# Изменение формы входных данных для модели RNN\n",
        "X_test = X_test.reshape(X_test.shape[0], X_test.shape[1], data.shape[1])"
      ],
      "metadata": {
        "id": "La1RCgpc1_QV"
      },
      "execution_count": 26,
      "outputs": []
    },
    {
      "cell_type": "code",
      "source": [
        "# Загрузка моделей\n",
        "model_names = ['bidirectional.h5', 'deep_rnn.h5', 'lstm.h5', 'gru.h5', 'rnn.h5']\n",
        "models = {name: load_model('/content/models/' + name) for name in model_names}"
      ],
      "metadata": {
        "id": "nJfrMNTI2AN8"
      },
      "execution_count": 27,
      "outputs": []
    },
    {
      "cell_type": "code",
      "source": [
        "# Сравнение моделей\n",
        "metrics_dict = {}\n",
        "\n",
        "for name, model in models.items():\n",
        "    y_pred = model.predict(X_test)\n",
        "\n",
        "    # Вычисление метрик\n",
        "    mse = mean_squared_error(y_test, y_pred)\n",
        "    mae = mean_absolute_error(y_test, y_pred)\n",
        "    r2 = r2_score(y_test, y_pred)\n",
        "\n",
        "    # Сохранение метрик в словаре\n",
        "    metrics_dict[name] = {'MSE': mse, 'MAE': mae, 'R^2': r2}\n",
        "\n",
        "# Теперь metrics_dict содержит метрики для каждой модели\n",
        "print(metrics_dict)"
      ],
      "metadata": {
        "colab": {
          "base_uri": "https://localhost:8080/"
        },
        "id": "0D7msal72KmQ",
        "outputId": "e9ea758c-a628-48c7-9cca-310204cef76b"
      },
      "execution_count": 28,
      "outputs": [
        {
          "output_type": "stream",
          "name": "stdout",
          "text": [
            "28/28 [==============================] - 1s 3ms/step\n",
            "28/28 [==============================] - 0s 4ms/step\n",
            "28/28 [==============================] - 2s 5ms/step\n",
            "28/28 [==============================] - 1s 5ms/step\n",
            "28/28 [==============================] - 1s 5ms/step\n",
            "{'bidirectional.h5': {'MSE': 0.05294775302516468, 'MAE': 0.19263846408028926, 'R^2': -0.034684650184166}, 'deep_rnn.h5': {'MSE': 0.05137153502765596, 'MAE': 0.1857999200345949, 'R^2': -0.0038828035677251904}, 'lstm.h5': {'MSE': 0.05119152554447889, 'MAE': 0.17940567138555258, 'R^2': -0.00036512739660654603}, 'gru.h5': {'MSE': 0.05226286096309374, 'MAE': 0.19028658310595792, 'R^2': -0.021300752602695594}, 'rnn.h5': {'MSE': 0.055226421351292694, 'MAE': 0.20213118106408098, 'R^2': -0.07921351128210419}}\n"
          ]
        }
      ]
    },
    {
      "cell_type": "code",
      "source": [
        "# Преобразование словаря в DataFrame\n",
        "metrics_df = pd.DataFrame(metrics_dict)\n",
        "\n",
        "# Вывод DataFrame\n",
        "print(metrics_df)"
      ],
      "metadata": {
        "colab": {
          "base_uri": "https://localhost:8080/"
        },
        "id": "jHYIz8Eo_NRk",
        "outputId": "282f61d8-bc89-4bdb-a8ed-bcd7c3a51210"
      },
      "execution_count": 29,
      "outputs": [
        {
          "output_type": "stream",
          "name": "stdout",
          "text": [
            "     bidirectional.h5  deep_rnn.h5   lstm.h5    gru.h5    rnn.h5\n",
            "MSE          0.052948     0.051372  0.051192  0.052263  0.055226\n",
            "MAE          0.192638     0.185800  0.179406  0.190287  0.202131\n",
            "R^2         -0.034685    -0.003883 -0.000365 -0.021301 -0.079214\n"
          ]
        }
      ]
    },
    {
      "cell_type": "code",
      "source": [
        "# Создание столбчатой диаграммы\n",
        "labels = list(metrics_dict.keys())\n",
        "mse_values = [metrics['MSE'] for metrics in metrics_dict.values()]\n",
        "mae_values = [metrics['MAE'] for metrics in metrics_dict.values()]\n",
        "r2_values = [metrics['R^2'] for metrics in metrics_dict.values()]\n",
        "\n",
        "x = np.arange(len(labels))  # местоположение меток\n",
        "width = 0.3  # ширина столбцов\n",
        "\n",
        "fig, ax = plt.subplots()\n",
        "rects1 = ax.bar(x - width, mse_values, width, label='MSE')\n",
        "rects2 = ax.bar(x, mae_values, width, label='MAE')\n",
        "rects3 = ax.bar(x + width, r2_values, width, label='R^2')\n",
        "\n",
        "# Добавление меток, названия и пользовательских меток осей X\n",
        "ax.set_ylabel('Scores')\n",
        "ax.set_title('Scores by model and metric')\n",
        "ax.set_xticks(x)\n",
        "ax.set_xticklabels(labels)\n",
        "ax.legend()\n",
        "\n",
        "# Вывод диаграммы\n",
        "plt.show()"
      ],
      "metadata": {
        "colab": {
          "base_uri": "https://localhost:8080/",
          "height": 452
        },
        "id": "QKenh_BR-4Ko",
        "outputId": "bef4f765-65fb-4937-8dd7-f9a4804df650"
      },
      "execution_count": 30,
      "outputs": [
        {
          "output_type": "display_data",
          "data": {
            "text/plain": [
              "<Figure size 640x480 with 1 Axes>"
            ],
            "image/png": "[encoded data removed]"
          },
          "metadata": {}
        }
      ]
    },
    {
      "cell_type": "code",
      "source": [
        "history_names = ['bidirectional_history', 'deep_rnn_history', 'gru_history', 'lstm_history', 'rnn_history']"
      ],
      "metadata": {
        "id": "JQneSyrZOD5f"
      },
      "execution_count": 32,
      "outputs": []
    },
    {
      "cell_type": "code",
      "source": [
        "# Загрузка историй обучения\n",
        "history_dict = {}\n",
        "for name in history_names:\n",
        "    with open(f'/content/history/{name}.pkl', 'rb') as f:\n",
        "        history_dict[name] = pickle.load(f)\n",
        "\n",
        "# Теперь history_dict содержит историю обучения для каждой модели\n",
        "print(history_dict)"
      ],
      "metadata": {
        "colab": {
          "base_uri": "https://localhost:8080/"
        },
        "id": "lw6g2crB_Zgl",
        "outputId": "49f4a483-55ec-4ac6-86ed-65f0699469bf"
      },
      "execution_count": 35,
      "outputs": [
        {
          "output_type": "stream",
          "name": "stdout",
          "text": [
            "{'bidirectional_history': {'loss': [0.06962651759386063, 0.057533033192157745, 0.05623428151011467, 0.055360473692417145, 0.054970722645521164, 0.054372984915971756, 0.05392514541745186, 0.05364210903644562, 0.053391605615615845, 0.05337882041931152, 0.05318327993154526, 0.053200703114271164, 0.05302288010716438, 0.052935659885406494, 0.05303070321679115, 0.05296792834997177, 0.052891988307237625, 0.05274726450443268, 0.05285244435071945, 0.0528377927839756], 'val_loss': [0.0534311980009079, 0.05536402016878128, 0.052736639976501465, 0.054801344871520996, 0.05246616154909134, 0.05246829614043236, 0.05113009363412857, 0.05173565819859505, 0.05324849113821983, 0.051542557775974274, 0.052487827837467194, 0.053197573870420456, 0.05486229434609413, 0.05128030851483345, 0.05183349922299385, 0.052923038601875305, 0.051284804940223694, 0.0513935387134552, 0.05296780914068222, 0.052518635988235474]}, 'deep_rnn_history': {'loss': [0.07770774513483047, 0.06694457679986954, 0.06253065168857574, 0.05939476937055588, 0.05729087442159653, 0.055949967354536057, 0.055284325033426285, 0.054735537618398666, 0.054741889238357544, 0.05431719496846199, 0.05396723374724388, 0.053671982139348984, 0.053229592740535736, 0.053017210215330124, 0.05294173210859299, 0.05279877409338951, 0.05283326655626297, 0.05285312235355377, 0.052743181586265564, 0.0526784248650074], 'val_loss': [0.05658339336514473, 0.05152575671672821, 0.052569679915905, 0.05613839998841286, 0.05242634564638138, 0.051183201372623444, 0.051412347704172134, 0.055337268859148026, 0.053589336574077606, 0.05260608345270157, 0.053360458463430405, 0.051525428891181946, 0.052421607077121735, 0.05185437947511673, 0.052742958068847656, 0.053402338176965714, 0.051321327686309814, 0.051915306597948074, 0.051289431750774384, 0.05129854381084442]}, 'gru_history': {'loss': [0.05467241257429123, 0.05332585424184799, 0.05292561277747154, 0.05273216590285301, 0.05264965072274208, 0.05251508206129074, 0.052407678216695786, 0.05236102268099785, 0.05240236595273018, 0.05230167880654335, 0.052235301584005356, 0.052166618406772614, 0.052340563386678696, 0.05217055603861809, 0.05219266191124916, 0.052043113857507706, 0.05218419432640076, 0.052099987864494324, 0.05221954733133316, 0.052075836807489395], 'val_loss': [0.05160224065184593, 0.05131472274661064, 0.05345448851585388, 0.051175929605960846, 0.051289964467287064, 0.05215667933225632, 0.05236418545246124, 0.05427594482898712, 0.05119575187563896, 0.05123157426714897, 0.05125919729471207, 0.05186949670314789, 0.05114040523767471, 0.05113500729203224, 0.05136236920952797, 0.05296379327774048, 0.05119514465332031, 0.051167018711566925, 0.05128684267401695, 0.0518873892724514]}, 'lstm_history': {'loss': [0.05330118164420128, 0.05278681963682175, 0.05255598574876785, 0.05252024531364441, 0.05250665545463562, 0.05240250378847122, 0.05221876502037048, 0.052252139896154404, 0.05237578600645065, 0.05236625298857689, 0.052179962396621704, 0.05223365128040314, 0.052249036729335785, 0.05219464749097824, 0.05215076357126236, 0.05221116542816162, 0.052169255912303925, 0.05222664028406143, 0.05206496641039848, 0.05210079252719879], 'val_loss': [0.051273245364427567, 0.05121387541294098, 0.0523565411567688, 0.05165252462029457, 0.05136963352560997, 0.05165717005729675, 0.05243998393416405, 0.05156382545828819, 0.051110681146383286, 0.05576503276824951, 0.05195675045251846, 0.052275341004133224, 0.05115867778658867, 0.05332042649388313, 0.05125812441110611, 0.051379572600126266, 0.05366290360689163, 0.05127149075269699, 0.05144887417554855, 0.051221173256635666]}, 'rnn_history': {'loss': [0.06417403370141983, 0.054773397743701935, 0.05415714159607887, 0.05353762209415436, 0.05351321026682854, 0.05323637276887894, 0.05316486209630966, 0.05292772874236107, 0.0525323785841465, 0.0525580495595932, 0.05265915393829346, 0.05252678319811821, 0.052621498703956604, 0.05231187492609024, 0.052423205226659775, 0.05242006853222847, 0.05247381329536438, 0.052468400448560715, 0.05253004655241966, 0.05238255858421326], 'val_loss': [0.054885897785425186, 0.05258394777774811, 0.05588133633136749, 0.052016206085681915, 0.05191943421959877, 0.051751043647527695, 0.051324035972356796, 0.05218591168522835, 0.05305611342191696, 0.05202069133520126, 0.05406748503446579, 0.051833171397447586, 0.05207855999469757, 0.05165410414338112, 0.051551930606365204, 0.05104490742087364, 0.05162612721323967, 0.051800381392240524, 0.05147155001759529, 0.05432593822479248]}}\n"
          ]
        }
      ]
    },
    {
      "cell_type": "code",
      "source": [
        "# Преобразование словаря в DataFrame\n",
        "history_df = pd.DataFrame(history_dict)\n",
        "\n",
        "# Вывод DataFrame\n",
        "print(history_df)"
      ],
      "metadata": {
        "colab": {
          "base_uri": "https://localhost:8080/"
        },
        "id": "k30Rbt_0OkAy",
        "outputId": "7cbe3670-9623-4db5-866a-6ad42fa3fe81"
      },
      "execution_count": 37,
      "outputs": [
        {
          "output_type": "stream",
          "name": "stdout",
          "text": [
            "                                      bidirectional_history  \\\n",
            "loss      [0.06962651759386063, 0.057533033192157745, 0....   \n",
            "val_loss  [0.0534311980009079, 0.05536402016878128, 0.05...   \n",
            "\n",
            "                                           deep_rnn_history  \\\n",
            "loss      [0.07770774513483047, 0.06694457679986954, 0.0...   \n",
            "val_loss  [0.05658339336514473, 0.05152575671672821, 0.0...   \n",
            "\n",
            "                                                gru_history  \\\n",
            "loss      [0.05467241257429123, 0.05332585424184799, 0.0...   \n",
            "val_loss  [0.05160224065184593, 0.05131472274661064, 0.0...   \n",
            "\n",
            "                                               lstm_history  \\\n",
            "loss      [0.05330118164420128, 0.05278681963682175, 0.0...   \n",
            "val_loss  [0.051273245364427567, 0.05121387541294098, 0....   \n",
            "\n",
            "                                                rnn_history  \n",
            "loss      [0.06417403370141983, 0.054773397743701935, 0....  \n",
            "val_loss  [0.054885897785425186, 0.05258394777774811, 0....  \n"
          ]
        }
      ]
    },
    {
      "cell_type": "code",
      "source": [
        "# Создание отдельного графика для каждой модели\n",
        "fig = go.Figure()\n",
        "\n",
        "for name, history in history_dict.items():\n",
        "    fig.add_trace(go.Scatter(\n",
        "        x=list(range(1, len(history['val_loss']) + 1)),\n",
        "        y=history['val_loss'],\n",
        "        mode='lines+markers',\n",
        "        name=name\n",
        "    ))\n",
        "\n",
        "# Настройка параметров графика\n",
        "fig.update_layout(\n",
        "    title='Validation Loss over Epochs',\n",
        "    xaxis=dict(title='Epochs'),\n",
        "    yaxis=dict(title='Validation Loss'),\n",
        "    hovermode='x',\n",
        "    # Добавление легенды с возможностью отключения линий\n",
        "    updatemenus=[\n",
        "        dict(\n",
        "            type=\"buttons\",\n",
        "            direction=\"right\",\n",
        "            active=0,\n",
        "            x=0.57,\n",
        "            y=1.2,\n",
        "            buttons=list([\n",
        "                dict(label=\"All\",\n",
        "                     method=\"update\",\n",
        "                     args=[{\"visible\": [True, True, True, True, True]}]),\n",
        "                dict(label=\"None\",\n",
        "                     method=\"update\",\n",
        "                     args=[{\"visible\": [False, False, False, False, False]}]),\n",
        "                dict(label=\"Bidirectional\",\n",
        "                     method=\"update\",\n",
        "                     args=[{\"visible\": [True, False, False, False, False]}]),\n",
        "                dict(label=\"Deep RNN\",\n",
        "                     method=\"update\",\n",
        "                     args=[{\"visible\": [False, True, False, False, False]}]),\n",
        "                dict(label=\"LSTM\",\n",
        "                     method=\"update\",\n",
        "                     args=[{\"visible\": [False, False, True, False, False]}]),\n",
        "                dict(label=\"GRU\",\n",
        "                     method=\"update\",\n",
        "                     args=[{\"visible\": [False, False, False, True, False]}]),\n",
        "                dict(label=\"RNN\",\n",
        "                     method=\"update\",\n",
        "                     args=[{\"visible\": [False, False, False, False, True]}]),\n",
        "            ]),\n",
        "        )\n",
        "    ]\n",
        ")\n",
        "\n",
        "# Отображение графика\n",
        "fig.show()\n"
      ],
      "metadata": {
        "colab": {
          "base_uri": "https://localhost:8080/",
          "height": 542
        },
        "id": "NWzFbY7L2QNN",
        "outputId": "ce0222b3-2bf1-490f-effd-4bd613bd9025"
      },
      "execution_count": 44,
      "outputs": [
        {
          "output_type": "display_data",
          "data": {
            "text/html": [
              "<html>\n",
              "<head><meta charset=\"utf-8\" /></head>\n",
              "<body>\n",
              "    <div>            <script src=\"https://cdnjs.cloudflare.com/ajax/libs/mathjax/2.7.5/MathJax.js?config=TeX-AMS-MML_SVG\"></script><script type=\"text/javascript\">if (window.MathJax && window.MathJax.Hub && window.MathJax.Hub.Config) {window.MathJax.Hub.Config({SVG: {font: \"STIX-Web\"}});}</script>                <script type=\"text/javascript\">window.PlotlyConfig = {MathJaxConfig: 'local'};</script>\n",
              "        <script charset=\"utf-8\" src=\"https://cdn.plot.ly/plotly-2.24.1.min.js\"></script>                <div id=\"20c3d610-db90-4c6e-a9ec-363aeee5cff1\" class=\"plotly-graph-div\" style=\"height:525px; width:100%;\"></div>            <script type=\"text/javascript\">                                    window.PLOTLYENV=window.PLOTLYENV || {};                                    if (document.getElementById(\"20c3d610-db90-4c6e-a9ec-363aeee5cff1\")) {                    Plotly.newPlot(                        \"20c3d610-db90-4c6e-a9ec-363aeee5cff1\",                        [{\"mode\":\"lines+markers\",\"name\":\"bidirectional_history\",\"x\":[1,2,3,4,5,6,7,8,9,10,11,12,13,14,15,16,17,18,19,20],\"y\":[0.0534311980009079,0.05536402016878128,0.052736639976501465,0.054801344871520996,0.05246616154909134,0.05246829614043236,0.05113009363412857,0.05173565819859505,0.05324849113821983,0.051542557775974274,0.052487827837467194,0.053197573870420456,0.05486229434609413,0.05128030851483345,0.05183349922299385,0.052923038601875305,0.051284804940223694,0.0513935387134552,0.05296780914068222,0.052518635988235474],\"type\":\"scatter\"},{\"mode\":\"lines+markers\",\"name\":\"deep_rnn_history\",\"x\":[1,2,3,4,5,6,7,8,9,10,11,12,13,14,15,16,17,18,19,20],\"y\":[0.05658339336514473,0.05152575671672821,0.052569679915905,0.05613839998841286,0.05242634564638138,0.051183201372623444,0.051412347704172134,0.055337268859148026,0.053589336574077606,0.05260608345270157,0.053360458463430405,0.051525428891181946,0.052421607077121735,0.05185437947511673,0.052742958068847656,0.053402338176965714,0.051321327686309814,0.051915306597948074,0.051289431750774384,0.05129854381084442],\"type\":\"scatter\"},{\"mode\":\"lines+markers\",\"name\":\"gru_history\",\"x\":[1,2,3,4,5,6,7,8,9,10,11,12,13,14,15,16,17,18,19,20],\"y\":[0.05160224065184593,0.05131472274661064,0.05345448851585388,0.051175929605960846,0.051289964467287064,0.05215667933225632,0.05236418545246124,0.05427594482898712,0.05119575187563896,0.05123157426714897,0.05125919729471207,0.05186949670314789,0.05114040523767471,0.05113500729203224,0.05136236920952797,0.05296379327774048,0.05119514465332031,0.051167018711566925,0.05128684267401695,0.0518873892724514],\"type\":\"scatter\"},{\"mode\":\"lines+markers\",\"name\":\"lstm_history\",\"x\":[1,2,3,4,5,6,7,8,9,10,11,12,13,14,15,16,17,18,19,20],\"y\":[0.051273245364427567,0.05121387541294098,0.0523565411567688,0.05165252462029457,0.05136963352560997,0.05165717005729675,0.05243998393416405,0.05156382545828819,0.051110681146383286,0.05576503276824951,0.05195675045251846,0.052275341004133224,0.05115867778658867,0.05332042649388313,0.05125812441110611,0.051379572600126266,0.05366290360689163,0.05127149075269699,0.05144887417554855,0.051221173256635666],\"type\":\"scatter\"},{\"mode\":\"lines+markers\",\"name\":\"rnn_history\",\"x\":[1,2,3,4,5,6,7,8,9,10,11,12,13,14,15,16,17,18,19,20],\"y\":[0.054885897785425186,0.05258394777774811,0.05588133633136749,0.052016206085681915,0.05191943421959877,0.051751043647527695,0.051324035972356796,0.05218591168522835,0.05305611342191696,0.05202069133520126,0.05406748503446579,0.051833171397447586,0.05207855999469757,0.05165410414338112,0.051551930606365204,0.05104490742087364,0.05162612721323967,0.051800381392240524,0.05147155001759529,0.05432593822479248],\"type\":\"scatter\"}],                        {\"template\":{\"data\":{\"histogram2dcontour\":[{\"type\":\"histogram2dcontour\",\"colorbar\":{\"outlinewidth\":0,\"ticks\":\"\"},\"colorscale\":[[0.0,\"#0d0887\"],[0.1111111111111111,\"#46039f\"],[0.2222222222222222,\"#7201a8\"],[0.3333333333333333,\"#9c179e\"],[0.4444444444444444,\"#bd3786\"],[0.5555555555555556,\"#d8576b\"],[0.6666666666666666,\"#ed7953\"],[0.7777777777777778,\"#fb9f3a\"],[0.8888888888888888,\"#fdca26\"],[1.0,\"#f0f921\"]]}],\"choropleth\":[{\"type\":\"choropleth\",\"colorbar\":{\"outlinewidth\":0,\"ticks\":\"\"}}],\"histogram2d\":[{\"type\":\"histogram2d\",\"colorbar\":{\"outlinewidth\":0,\"ticks\":\"\"},\"colorscale\":[[0.0,\"#0d0887\"],[0.1111111111111111,\"#46039f\"],[0.2222222222222222,\"#7201a8\"],[0.3333333333333333,\"#9c179e\"],[0.4444444444444444,\"#bd3786\"],[0.5555555555555556,\"#d8576b\"],[0.6666666666666666,\"#ed7953\"],[0.7777777777777778,\"#fb9f3a\"],[0.8888888888888888,\"#fdca26\"],[1.0,\"#f0f921\"]]}],\"heatmap\":[{\"type\":\"heatmap\",\"colorbar\":{\"outlinewidth\":0,\"ticks\":\"\"},\"colorscale\":[[0.0,\"#0d0887\"],[0.1111111111111111,\"#46039f\"],[0.2222222222222222,\"#7201a8\"],[0.3333333333333333,\"#9c179e\"],[0.4444444444444444,\"#bd3786\"],[0.5555555555555556,\"#d8576b\"],[0.6666666666666666,\"#ed7953\"],[0.7777777777777778,\"#fb9f3a\"],[0.8888888888888888,\"#fdca26\"],[1.0,\"#f0f921\"]]}],\"heatmapgl\":[{\"type\":\"heatmapgl\",\"colorbar\":{\"outlinewidth\":0,\"ticks\":\"\"},\"colorscale\":[[0.0,\"#0d0887\"],[0.1111111111111111,\"#46039f\"],[0.2222222222222222,\"#7201a8\"],[0.3333333333333333,\"#9c179e\"],[0.4444444444444444,\"#bd3786\"],[0.5555555555555556,\"#d8576b\"],[0.6666666666666666,\"#ed7953\"],[0.7777777777777778,\"#fb9f3a\"],[0.8888888888888888,\"#fdca26\"],[1.0,\"#f0f921\"]]}],\"contourcarpet\":[{\"type\":\"contourcarpet\",\"colorbar\":{\"outlinewidth\":0,\"ticks\":\"\"}}],\"contour\":[{\"type\":\"contour\",\"colorbar\":{\"outlinewidth\":0,\"ticks\":\"\"},\"colorscale\":[[0.0,\"#0d0887\"],[0.1111111111111111,\"#46039f\"],[0.2222222222222222,\"#7201a8\"],[0.3333333333333333,\"#9c179e\"],[0.4444444444444444,\"#bd3786\"],[0.5555555555555556,\"#d8576b\"],[0.6666666666666666,\"#ed7953\"],[0.7777777777777778,\"#fb9f3a\"],[0.8888888888888888,\"#fdca26\"],[1.0,\"#f0f921\"]]}],\"surface\":[{\"type\":\"surface\",\"colorbar\":{\"outlinewidth\":0,\"ticks\":\"\"},\"colorscale\":[[0.0,\"#0d0887\"],[0.1111111111111111,\"#46039f\"],[0.2222222222222222,\"#7201a8\"],[0.3333333333333333,\"#9c179e\"],[0.4444444444444444,\"#bd3786\"],[0.5555555555555556,\"#d8576b\"],[0.6666666666666666,\"#ed7953\"],[0.7777777777777778,\"#fb9f3a\"],[0.8888888888888888,\"#fdca26\"],[1.0,\"#f0f921\"]]}],\"mesh3d\":[{\"type\":\"mesh3d\",\"colorbar\":{\"outlinewidth\":0,\"ticks\":\"\"}}],\"scatter\":[{\"fillpattern\":{\"fillmode\":\"overlay\",\"size\":10,\"solidity\":0.2},\"type\":\"scatter\"}],\"parcoords\":[{\"type\":\"parcoords\",\"line\":{\"colorbar\":{\"outlinewidth\":0,\"ticks\":\"\"}}}],\"scatterpolargl\":[{\"type\":\"scatterpolargl\",\"marker\":{\"colorbar\":{\"outlinewidth\":0,\"ticks\":\"\"}}}],\"bar\":[{\"error_x\":{\"color\":\"#2a3f5f\"},\"error_y\":{\"color\":\"#2a3f5f\"},\"marker\":{\"line\":{\"color\":\"#E5ECF6\",\"width\":0.5},\"pattern\":{\"fillmode\":\"overlay\",\"size\":10,\"solidity\":0.2}},\"type\":\"bar\"}],\"scattergeo\":[{\"type\":\"scattergeo\",\"marker\":{\"colorbar\":{\"outlinewidth\":0,\"ticks\":\"\"}}}],\"scatterpolar\":[{\"type\":\"scatterpolar\",\"marker\":{\"colorbar\":{\"outlinewidth\":0,\"ticks\":\"\"}}}],\"histogram\":[{\"marker\":{\"pattern\":{\"fillmode\":\"overlay\",\"size\":10,\"solidity\":0.2}},\"type\":\"histogram\"}],\"scattergl\":[{\"type\":\"scattergl\",\"marker\":{\"colorbar\":{\"outlinewidth\":0,\"ticks\":\"\"}}}],\"scatter3d\":[{\"type\":\"scatter3d\",\"line\":{\"colorbar\":{\"outlinewidth\":0,\"ticks\":\"\"}},\"marker\":{\"colorbar\":{\"outlinewidth\":0,\"ticks\":\"\"}}}],\"scattermapbox\":[{\"type\":\"scattermapbox\",\"marker\":{\"colorbar\":{\"outlinewidth\":0,\"ticks\":\"\"}}}],\"scatterternary\":[{\"type\":\"scatterternary\",\"marker\":{\"colorbar\":{\"outlinewidth\":0,\"ticks\":\"\"}}}],\"scattercarpet\":[{\"type\":\"scattercarpet\",\"marker\":{\"colorbar\":{\"outlinewidth\":0,\"ticks\":\"\"}}}],\"carpet\":[{\"aaxis\":{\"endlinecolor\":\"#2a3f5f\",\"gridcolor\":\"white\",\"linecolor\":\"white\",\"minorgridcolor\":\"white\",\"startlinecolor\":\"#2a3f5f\"},\"baxis\":{\"endlinecolor\":\"#2a3f5f\",\"gridcolor\":\"white\",\"linecolor\":\"white\",\"minorgridcolor\":\"white\",\"startlinecolor\":\"#2a3f5f\"},\"type\":\"carpet\"}],\"table\":[{\"cells\":{\"fill\":{\"color\":\"#EBF0F8\"},\"line\":{\"color\":\"white\"}},\"header\":{\"fill\":{\"color\":\"#C8D4E3\"},\"line\":{\"color\":\"white\"}},\"type\":\"table\"}],\"barpolar\":[{\"marker\":{\"line\":{\"color\":\"#E5ECF6\",\"width\":0.5},\"pattern\":{\"fillmode\":\"overlay\",\"size\":10,\"solidity\":0.2}},\"type\":\"barpolar\"}],\"pie\":[{\"automargin\":true,\"type\":\"pie\"}]},\"layout\":{\"autotypenumbers\":\"strict\",\"colorway\":[\"#636efa\",\"#EF553B\",\"#00cc96\",\"#ab63fa\",\"#FFA15A\",\"#19d3f3\",\"#FF6692\",\"#B6E880\",\"#FF97FF\",\"#FECB52\"],\"font\":{\"color\":\"#2a3f5f\"},\"hovermode\":\"closest\",\"hoverlabel\":{\"align\":\"left\"},\"paper_bgcolor\":\"white\",\"plot_bgcolor\":\"#E5ECF6\",\"polar\":{\"bgcolor\":\"#E5ECF6\",\"angularaxis\":{\"gridcolor\":\"white\",\"linecolor\":\"white\",\"ticks\":\"\"},\"radialaxis\":{\"gridcolor\":\"white\",\"linecolor\":\"white\",\"ticks\":\"\"}},\"ternary\":{\"bgcolor\":\"#E5ECF6\",\"aaxis\":{\"gridcolor\":\"white\",\"linecolor\":\"white\",\"ticks\":\"\"},\"baxis\":{\"gridcolor\":\"white\",\"linecolor\":\"white\",\"ticks\":\"\"},\"caxis\":{\"gridcolor\":\"white\",\"linecolor\":\"white\",\"ticks\":\"\"}},\"coloraxis\":{\"colorbar\":{\"outlinewidth\":0,\"ticks\":\"\"}},\"colorscale\":{\"sequential\":[[0.0,\"#0d0887\"],[0.1111111111111111,\"#46039f\"],[0.2222222222222222,\"#7201a8\"],[0.3333333333333333,\"#9c179e\"],[0.4444444444444444,\"#bd3786\"],[0.5555555555555556,\"#d8576b\"],[0.6666666666666666,\"#ed7953\"],[0.7777777777777778,\"#fb9f3a\"],[0.8888888888888888,\"#fdca26\"],[1.0,\"#f0f921\"]],\"sequentialminus\":[[0.0,\"#0d0887\"],[0.1111111111111111,\"#46039f\"],[0.2222222222222222,\"#7201a8\"],[0.3333333333333333,\"#9c179e\"],[0.4444444444444444,\"#bd3786\"],[0.5555555555555556,\"#d8576b\"],[0.6666666666666666,\"#ed7953\"],[0.7777777777777778,\"#fb9f3a\"],[0.8888888888888888,\"#fdca26\"],[1.0,\"#f0f921\"]],\"diverging\":[[0,\"#8e0152\"],[0.1,\"#c51b7d\"],[0.2,\"#de77ae\"],[0.3,\"#f1b6da\"],[0.4,\"#fde0ef\"],[0.5,\"#f7f7f7\"],[0.6,\"#e6f5d0\"],[0.7,\"#b8e186\"],[0.8,\"#7fbc41\"],[0.9,\"#4d9221\"],[1,\"#276419\"]]},\"xaxis\":{\"gridcolor\":\"white\",\"linecolor\":\"white\",\"ticks\":\"\",\"title\":{\"standoff\":15},\"zerolinecolor\":\"white\",\"automargin\":true,\"zerolinewidth\":2},\"yaxis\":{\"gridcolor\":\"white\",\"linecolor\":\"white\",\"ticks\":\"\",\"title\":{\"standoff\":15},\"zerolinecolor\":\"white\",\"automargin\":true,\"zerolinewidth\":2},\"scene\":{\"xaxis\":{\"backgroundcolor\":\"#E5ECF6\",\"gridcolor\":\"white\",\"linecolor\":\"white\",\"showbackground\":true,\"ticks\":\"\",\"zerolinecolor\":\"white\",\"gridwidth\":2},\"yaxis\":{\"backgroundcolor\":\"#E5ECF6\",\"gridcolor\":\"white\",\"linecolor\":\"white\",\"showbackground\":true,\"ticks\":\"\",\"zerolinecolor\":\"white\",\"gridwidth\":2},\"zaxis\":{\"backgroundcolor\":\"#E5ECF6\",\"gridcolor\":\"white\",\"linecolor\":\"white\",\"showbackground\":true,\"ticks\":\"\",\"zerolinecolor\":\"white\",\"gridwidth\":2}},\"shapedefaults\":{\"line\":{\"color\":\"#2a3f5f\"}},\"annotationdefaults\":{\"arrowcolor\":\"#2a3f5f\",\"arrowhead\":0,\"arrowwidth\":1},\"geo\":{\"bgcolor\":\"white\",\"landcolor\":\"#E5ECF6\",\"subunitcolor\":\"white\",\"showland\":true,\"showlakes\":true,\"lakecolor\":\"white\"},\"title\":{\"x\":0.05},\"mapbox\":{\"style\":\"light\"}}},\"title\":{\"text\":\"Validation Loss over Epochs\"},\"xaxis\":{\"title\":{\"text\":\"Epochs\"}},\"yaxis\":{\"title\":{\"text\":\"Validation Loss\"}},\"hovermode\":\"x\",\"updatemenus\":[{\"active\":0,\"buttons\":[{\"args\":[{\"visible\":[true,true,true,true,true]}],\"label\":\"All\",\"method\":\"update\"},{\"args\":[{\"visible\":[false,false,false,false,false]}],\"label\":\"None\",\"method\":\"update\"},{\"args\":[{\"visible\":[true,false,false,false,false]}],\"label\":\"Bidirectional\",\"method\":\"update\"},{\"args\":[{\"visible\":[false,true,false,false,false]}],\"label\":\"Deep RNN\",\"method\":\"update\"},{\"args\":[{\"visible\":[false,false,true,false,false]}],\"label\":\"LSTM\",\"method\":\"update\"},{\"args\":[{\"visible\":[false,false,false,true,false]}],\"label\":\"GRU\",\"method\":\"update\"},{\"args\":[{\"visible\":[false,false,false,false,true]}],\"label\":\"RNN\",\"method\":\"update\"}],\"direction\":\"right\",\"type\":\"buttons\",\"x\":0.57,\"y\":1.2}]},                        {\"responsive\": true}                    ).then(function(){\n",
              "                            \n",
              "var gd = document.getElementById('20c3d610-db90-4c6e-a9ec-363aeee5cff1');\n",
              "var x = new MutationObserver(function (mutations, observer) {{\n",
              "        var display = window.getComputedStyle(gd).display;\n",
              "        if (!display || display === 'none') {{\n",
              "            console.log([gd, 'removed!']);\n",
              "            Plotly.purge(gd);\n",
              "            observer.disconnect();\n",
              "        }}\n",
              "}});\n",
              "\n",
              "// Listen for the removal of the full notebook cells\n",
              "var notebookContainer = gd.closest('#notebook-container');\n",
              "if (notebookContainer) {{\n",
              "    x.observe(notebookContainer, {childList: true});\n",
              "}}\n",
              "\n",
              "// Listen for the clearing of the current output cell\n",
              "var outputEl = gd.closest('.output');\n",
              "if (outputEl) {{\n",
              "    x.observe(outputEl, {childList: true});\n",
              "}}\n",
              "\n",
              "                        })                };                            </script>        </div>\n",
              "</body>\n",
              "</html>"
            ]
          },
          "metadata": {}
        }
      ]
    }
  ]
}